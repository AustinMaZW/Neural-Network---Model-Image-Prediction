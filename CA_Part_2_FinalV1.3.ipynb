{
 "cells": [
  {
   "cell_type": "code",
   "execution_count": 1,
   "id": "8dc5959a",
   "metadata": {},
   "outputs": [],
   "source": [
    "import numpy as np\n",
    "import os\n",
    "import tensorflow as tf\n",
    "from sklearn.preprocessing import LabelEncoder\n",
    "from tensorflow import keras\n",
    "from tensorflow.keras import layers\n",
    "from tensorflow.keras.preprocessing.image import img_to_array, load_img\n",
    "from  matplotlib import pyplot as plt"
   ]
  },
  {
   "cell_type": "markdown",
   "id": "82ab7cb0",
   "metadata": {},
   "source": [
    "# Define a class to process the image"
   ]
  },
  {
   "cell_type": "code",
   "execution_count": 2,
   "id": "12cfb94b",
   "metadata": {},
   "outputs": [],
   "source": [
    "class ImgGen():\n",
    "    def __init__(self, path, maxdimension):\n",
    "        self.directory = path\n",
    "        self.maxdimension = maxdimension\n",
    "        \n",
    "        self.imgpaths=[]\n",
    "        self.imglabels =[]\n",
    "        \n",
    "        for file in os.listdir(self.directory):\n",
    "            if file.lower().endswith('.jpg'):\n",
    "                self.imgpaths += [os.path.join(self.directory, file)]\n",
    "                self.imglabels +=[file.split('_')[0]]\n",
    "        self.imgpaths = np.array(self.imgpaths)    #convert to np.array for the model\n",
    "        self.imglabels = np.array(self.imglabels)\n",
    "        \n",
    "    def loadimg(self, imagepath):\n",
    "        img = load_img(imagepath, color_mode='rgba', target_size=(self.maxdimension, self.maxdimension), interpolation='nearest')\n",
    "        img = img_to_array(img)\n",
    "        \n",
    "        return img\n",
    "    \n",
    "    def getimgarray(self):\n",
    "        imgs =[]\n",
    "        for i in self.imgpaths:\n",
    "            imgs.append(self.loadimg(i))\n",
    "        imgarr = np.array(imgs)\n",
    "        return imgarr\n",
    "    \n",
    "    def getdata(self):\n",
    "        lblecd = LabelEncoder()\n",
    "        lblecd.fit(self.imglabels)\n",
    "        self.classes = len(lblecd.classes_)\n",
    "        _y_data = lblecd.transform(self.imglabels)\n",
    "        y_data = tf.keras.utils.to_categorical(_y_data, self.classes)\n",
    "                \n",
    "        x_data = self.getimgarray()\n",
    "        x_data /= 255.\n",
    "        \n",
    "        return (x_data, y_data)"
   ]
  },
  {
   "cell_type": "markdown",
   "id": "788d03f7",
   "metadata": {},
   "source": [
    "# Define method to plot the graphs"
   ]
  },
  {
   "cell_type": "code",
   "execution_count": 3,
   "id": "b2bbf0af",
   "metadata": {},
   "outputs": [],
   "source": [
    "def plot_training_results(history, epochs):\n",
    "    acc = history.history['accuracy']\n",
    "    val_acc = history.history['val_accuracy']\n",
    "\n",
    "    loss = history.history['loss']\n",
    "    val_loss = history.history['val_loss']\n",
    "\n",
    "    epochs_range = range(epochs)\n",
    "\n",
    "    plt.figure(figsize=(8, 8))\n",
    "    plt.subplot(1, 2, 1)\n",
    "    plt.plot(epochs_range, acc, label='Training Accuracy')\n",
    "    plt.plot(epochs_range, val_acc, label='Validation Accuracy')\n",
    "    plt.legend(loc='lower right')\n",
    "    plt.title('Training and Validation Accuracy')\n",
    "\n",
    "    plt.subplot(1, 2, 2)\n",
    "    plt.plot(epochs_range, loss, label='Training Loss')\n",
    "    plt.plot(epochs_range, val_loss, label='Validation Loss')\n",
    "    plt.legend(loc='upper right')\n",
    "    plt.title('Training and Validation Loss')\n",
    "    plt.show()"
   ]
  },
  {
   "cell_type": "markdown",
   "id": "3bc251e2",
   "metadata": {},
   "source": [
    "# Define method for the model"
   ]
  },
  {
   "cell_type": "code",
   "execution_count": 4,
   "id": "6c65cf5a",
   "metadata": {},
   "outputs": [],
   "source": [
    "def runcnn(x_train, y_train, x_test, y_test, dropratio, epchs=10):\n",
    "    \n",
    "    #data augmentation to add more samples by rotating the the images\n",
    "    data_augmentation = keras.Sequential(\n",
    "      [\n",
    "        layers.experimental.preprocessing.RandomFlip(\"horizontal\", \n",
    "                                                     input_shape=x_train.shape[1:]),\n",
    "        layers.experimental.preprocessing.RandomRotation(0.1),\n",
    "        layers.experimental.preprocessing.RandomZoom(0.1),\n",
    "      ]\n",
    "    )\n",
    "    \n",
    "    model = tf.keras.Sequential([data_augmentation])\n",
    "    model.add(tf.keras.layers.Conv2D(32, (3,3),  padding='same', activation='relu'))\n",
    "    model.add(tf.keras.layers.MaxPooling2D(pool_size=(2,2)))\n",
    "    model.add(tf.keras.layers.Conv2D(32, (3,3), padding='same', activation='relu'))\n",
    "    model.add(tf.keras.layers.MaxPooling2D(pool_size=(2,2)))\n",
    "    model.add(tf.keras.layers.Conv2D(32, (3,3),  padding='same', activation='relu'))\n",
    "    model.add(tf.keras.layers.MaxPooling2D(pool_size=(2,2)))\n",
    "    model.add(tf.keras.layers.Dropout(dropratio))\n",
    "    model.add(tf.keras.layers.Flatten())\n",
    "    model.add(tf.keras.layers.Dense(128, activation='relu'))\n",
    "    model.add(tf.keras.layers.Dense((y_train.shape[-1]), activation='softmax'))\n",
    "    model.compile(loss='categorical_crossentropy', optimizer='adam',metrics='accuracy')\n",
    "    model.summary\n",
    "\n",
    "    history = model.fit(x_train, y_train, batch_size=batchsize, verbose =1, epochs=epchs, validation_data=(x_test, y_test))\n",
    "\n",
    "    loss, accuracy = model.evaluate(x=x_test, y=y_test)\n",
    "    print('loss =', loss, ', accuracy =', accuracy)\n",
    "    \n",
    "    plot_training_results(history, epchs)\n",
    "     "
   ]
  },
  {
   "cell_type": "markdown",
   "id": "4b733267",
   "metadata": {},
   "source": [
    "# Running the model"
   ]
  },
  {
   "cell_type": "code",
   "execution_count": 5,
   "id": "f9430a17",
   "metadata": {},
   "outputs": [],
   "source": [
    "#variables\n",
    "testfolder = 'test'\n",
    "trainfolder= 'train' \n",
    "batchsize = 8\n",
    "maxdim = 32 #max dimension for picture, W or H, maxdimension X maxdimension\n",
    "\n",
    "traindata = ImgGen(trainfolder, maxdim)\n",
    "testdata = ImgGen(testfolder, maxdim)\n",
    "(x_train, y_train) = traindata.getdata()\n",
    "(x_test, y_test) = testdata.getdata()\n"
   ]
  },
  {
   "cell_type": "code",
   "execution_count": 6,
   "id": "ff16e240",
   "metadata": {
    "scrolled": true
   },
   "outputs": [
    {
     "name": "stdout",
     "output_type": "stream",
     "text": [
      "Epoch 1/15\n",
      "30/30 [==============================] - 2s 25ms/step - loss: 1.3395 - accuracy: 0.3167 - val_loss: 1.2616 - val_accuracy: 0.3000\n",
      "Epoch 2/15\n",
      "30/30 [==============================] - 0s 14ms/step - loss: 1.1880 - accuracy: 0.5042 - val_loss: 1.0974 - val_accuracy: 0.4667\n",
      "Epoch 3/15\n",
      "30/30 [==============================] - 0s 13ms/step - loss: 0.9193 - accuracy: 0.5875 - val_loss: 0.8567 - val_accuracy: 0.7167\n",
      "Epoch 4/15\n",
      "30/30 [==============================] - 0s 14ms/step - loss: 0.7003 - accuracy: 0.7625 - val_loss: 0.5905 - val_accuracy: 0.8500\n",
      "Epoch 5/15\n",
      "30/30 [==============================] - 0s 14ms/step - loss: 0.5866 - accuracy: 0.7958 - val_loss: 0.5691 - val_accuracy: 0.8333\n",
      "Epoch 6/15\n",
      "30/30 [==============================] - 0s 14ms/step - loss: 0.4541 - accuracy: 0.8542 - val_loss: 0.3620 - val_accuracy: 0.9000\n",
      "Epoch 7/15\n",
      "30/30 [==============================] - 0s 13ms/step - loss: 0.3932 - accuracy: 0.8583 - val_loss: 0.5273 - val_accuracy: 0.8333\n",
      "Epoch 8/15\n",
      "30/30 [==============================] - 0s 13ms/step - loss: 0.4140 - accuracy: 0.8500 - val_loss: 0.3471 - val_accuracy: 0.8833\n",
      "Epoch 9/15\n",
      "30/30 [==============================] - 0s 12ms/step - loss: 0.3257 - accuracy: 0.8792 - val_loss: 0.6859 - val_accuracy: 0.8500\n",
      "Epoch 10/15\n",
      "30/30 [==============================] - 0s 14ms/step - loss: 0.4113 - accuracy: 0.8667 - val_loss: 0.3064 - val_accuracy: 0.8833\n",
      "Epoch 11/15\n",
      "30/30 [==============================] - 0s 14ms/step - loss: 0.3425 - accuracy: 0.8833 - val_loss: 0.5675 - val_accuracy: 0.8833\n",
      "Epoch 12/15\n",
      "30/30 [==============================] - 0s 13ms/step - loss: 0.2811 - accuracy: 0.9250 - val_loss: 0.3772 - val_accuracy: 0.9000\n",
      "Epoch 13/15\n",
      "30/30 [==============================] - 0s 15ms/step - loss: 0.2514 - accuracy: 0.9208 - val_loss: 0.3784 - val_accuracy: 0.8667\n",
      "Epoch 14/15\n",
      "30/30 [==============================] - 0s 13ms/step - loss: 0.3389 - accuracy: 0.8917 - val_loss: 0.3993 - val_accuracy: 0.8833\n",
      "Epoch 15/15\n",
      "30/30 [==============================] - 0s 14ms/step - loss: 0.2211 - accuracy: 0.9083 - val_loss: 0.2989 - val_accuracy: 0.8833\n",
      "2/2 [==============================] - 0s 7ms/step - loss: 0.2989 - accuracy: 0.8833\n",
      "loss = 0.298894464969635 , accuracy = 0.8833333253860474\n"
     ]
    },
    {
     "data": {
      "image/png": "[encoded data removed]",
      "text/plain": [
       "<Figure size 576x576 with 2 Axes>"
      ]
     },
     "metadata": {
      "needs_background": "light"
     },
     "output_type": "display_data"
    }
   ],
   "source": [
    "runcnn(x_train, y_train, x_test, y_test, dropratio=0.2, epchs=15)"
   ]
  },
  {
   "cell_type": "code",
   "execution_count": null,
   "id": "cd542edf",
   "metadata": {},
   "outputs": [],
   "source": []
  }
 ],
 "metadata": {
  "kernelspec": {
   "display_name": "Python 3",
   "language": "python",
   "name": "python3"
  },
  "language_info": {
   "codemirror_mode": {
    "name": "ipython",
    "version": 3
   },
   "file_extension": ".py",
   "mimetype": "text/x-python",
   "name": "python",
   "nbconvert_exporter": "python",
   "pygments_lexer": "ipython3",
   "version": "3.9.4"
  }
 },
 "nbformat": 4,
 "nbformat_minor": 5
}
